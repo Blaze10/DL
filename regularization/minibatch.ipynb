{
  "nbformat": 4,
  "nbformat_minor": 0,
  "metadata": {
    "colab": {
      "provenance": [],
      "authorship_tag": "ABX9TyPa80GNoldu2i13tK7WMvNh",
      "include_colab_link": true
    },
    "kernelspec": {
      "name": "python3",
      "display_name": "Python 3"
    },
    "language_info": {
      "name": "python"
    }
  },
  "cells": [
    {
      "cell_type": "markdown",
      "metadata": {
        "id": "view-in-github",
        "colab_type": "text"
      },
      "source": [
        "<a href=\"https://colab.research.google.com/github/Blaze10/DL/blob/main/regularization/minibatch.ipynb\" target=\"_parent\"><img src=\"https://colab.research.google.com/assets/colab-badge.svg\" alt=\"Open In Colab\"/></a>"
      ]
    },
    {
      "cell_type": "code",
      "execution_count": 1,
      "metadata": {
        "id": "XFr_wU9jDGrA"
      },
      "outputs": [],
      "source": [
        "import torch\n",
        "import torch.nn as nn\n",
        "import torch.nn.functional as F\n",
        "import numpy as np\n",
        "import matplotlib.pyplot as plt\n",
        "from sklearn.model_selection import train_test_split\n",
        "import seaborn as sns\n",
        "from torch.utils.data import DataLoader, TensorDataset"
      ]
    },
    {
      "cell_type": "code",
      "source": [
        "iris = sns.load_dataset('iris')\n",
        "data = torch.tensor(iris[iris.columns[:4]].values).float()\n",
        "labels = torch.zeros(len(data), dtype=torch.long)"
      ],
      "metadata": {
        "id": "FYFJ2i3xDijK"
      },
      "execution_count": 2,
      "outputs": []
    },
    {
      "cell_type": "code",
      "source": [
        "iris.species.value_counts()"
      ],
      "metadata": {
        "colab": {
          "base_uri": "https://localhost:8080/"
        },
        "id": "0IrKDSsUD9KP",
        "outputId": "00ef4a09-ae33-40f3-ea2d-3a01bd0e8077"
      },
      "execution_count": 3,
      "outputs": [
        {
          "output_type": "execute_result",
          "data": {
            "text/plain": [
              "setosa        50\n",
              "versicolor    50\n",
              "virginica     50\n",
              "Name: species, dtype: int64"
            ]
          },
          "metadata": {},
          "execution_count": 3
        }
      ]
    },
    {
      "cell_type": "code",
      "source": [
        "labels[iris.species == 'versicolor'] = 1\n",
        "labels[iris.species == 'virginica'] = 2"
      ],
      "metadata": {
        "id": "XWZ4ug_vEAsN"
      },
      "execution_count": 4,
      "outputs": []
    },
    {
      "cell_type": "code",
      "source": [
        "labels"
      ],
      "metadata": {
        "colab": {
          "base_uri": "https://localhost:8080/"
        },
        "id": "7o1PvxtQEH01",
        "outputId": "4b7232eb-6c47-4bf5-9f82-e92526296d68"
      },
      "execution_count": 5,
      "outputs": [
        {
          "output_type": "execute_result",
          "data": {
            "text/plain": [
              "tensor([0, 0, 0, 0, 0, 0, 0, 0, 0, 0, 0, 0, 0, 0, 0, 0, 0, 0, 0, 0, 0, 0, 0, 0,\n",
              "        0, 0, 0, 0, 0, 0, 0, 0, 0, 0, 0, 0, 0, 0, 0, 0, 0, 0, 0, 0, 0, 0, 0, 0,\n",
              "        0, 0, 1, 1, 1, 1, 1, 1, 1, 1, 1, 1, 1, 1, 1, 1, 1, 1, 1, 1, 1, 1, 1, 1,\n",
              "        1, 1, 1, 1, 1, 1, 1, 1, 1, 1, 1, 1, 1, 1, 1, 1, 1, 1, 1, 1, 1, 1, 1, 1,\n",
              "        1, 1, 1, 1, 2, 2, 2, 2, 2, 2, 2, 2, 2, 2, 2, 2, 2, 2, 2, 2, 2, 2, 2, 2,\n",
              "        2, 2, 2, 2, 2, 2, 2, 2, 2, 2, 2, 2, 2, 2, 2, 2, 2, 2, 2, 2, 2, 2, 2, 2,\n",
              "        2, 2, 2, 2, 2, 2])"
            ]
          },
          "metadata": {},
          "execution_count": 5
        }
      ]
    },
    {
      "cell_type": "code",
      "source": [
        "train_data, test_data, train_labels, test_labels = train_test_split(data, labels, test_size=.2)\n",
        "train_dataset = TensorDataset(train_data, train_labels)\n",
        "test_dataset = TensorDataset(test_data, test_labels)\n",
        "batch_size=16\n",
        "train_loader = DataLoader(train_dataset, batch_size=batch_size, shuffle=True, drop_last=True)\n",
        "test_loader = DataLoader(test_dataset, batch_size=len(test_dataset))"
      ],
      "metadata": {
        "id": "bbHCG5x0EIlt"
      },
      "execution_count": 11,
      "outputs": []
    },
    {
      "cell_type": "code",
      "source": [
        "for X,y in train_loader:\n",
        "  print(X.shape, y.shape)"
      ],
      "metadata": {
        "colab": {
          "base_uri": "https://localhost:8080/"
        },
        "id": "OJbSHlZIEo1R",
        "outputId": "c44a92bb-0f93-402f-8547-6b62e74ce5af"
      },
      "execution_count": 12,
      "outputs": [
        {
          "output_type": "stream",
          "name": "stdout",
          "text": [
            "torch.Size([16, 4]) torch.Size([16])\n",
            "torch.Size([16, 4]) torch.Size([16])\n",
            "torch.Size([16, 4]) torch.Size([16])\n",
            "torch.Size([16, 4]) torch.Size([16])\n",
            "torch.Size([16, 4]) torch.Size([16])\n",
            "torch.Size([16, 4]) torch.Size([16])\n",
            "torch.Size([16, 4]) torch.Size([16])\n"
          ]
        }
      ]
    },
    {
      "cell_type": "code",
      "source": [
        "def create_model():\n",
        "  ANNiris = nn.Sequential(\n",
        "      nn.Linear(4,64),\n",
        "      nn.ReLU(),\n",
        "      nn.Linear(64,64),\n",
        "      nn.ReLU(),\n",
        "      nn.Linear(64,4)\n",
        "  )\n",
        "\n",
        "  loss_fun = nn.CrossEntropyLoss()\n",
        "  optimizer = torch.optim.SGD(ANNiris.parameters(), lr=0.0005)\n",
        "\n",
        "  return ANNiris, loss_fun, optimizer"
      ],
      "metadata": {
        "id": "YlweI8AcEsnO"
      },
      "execution_count": 13,
      "outputs": []
    },
    {
      "cell_type": "code",
      "source": [
        "num_epochs = 2500\n",
        "\n",
        "def train_model():\n",
        "  train_acc = []\n",
        "  test_acc = []\n",
        "  losses = []\n",
        "\n",
        "  for epochi in range(num_epochs):\n",
        "\n",
        "    batch_acc = []\n",
        "    batch_loss = []\n",
        "\n",
        "    for X,y in train_loader:\n",
        "      yHat = ANNiris(X)\n",
        "      loss = loss_fun(yHat, y)\n",
        "\n",
        "      optimizer.zero_grad()\n",
        "      loss.backward()\n",
        "      optimizer.step()\n",
        "\n",
        "\n",
        "      batch_acc.append(100 * torch.mean((torch.argmax(yHat, axis=1)==y).float()).item())\n",
        "      batch_loss.append(loss.item())\n",
        "\n",
        "    train_acc.append(np.mean(batch_acc))\n",
        "    losses.append(np.mean(batch_loss))\n",
        "    X,y = next(iter(test_loader))\n",
        "    predlabels = torch.argmax(ANNiris(X), axis=1)\n",
        "    test_acc.append(100 * torch.mean((predlabels == y).float()).item())\n",
        "\n",
        "  return train_acc, test_acc, losses"
      ],
      "metadata": {
        "id": "61WfKZFWFUSG"
      },
      "execution_count": 14,
      "outputs": []
    },
    {
      "cell_type": "code",
      "source": [
        "ANNiris, loss_fun, optimizer = create_model()\n",
        "train_acc, test_acc, losses = train_model()"
      ],
      "metadata": {
        "id": "WDNYBToELdEJ"
      },
      "execution_count": 15,
      "outputs": []
    },
    {
      "cell_type": "code",
      "source": [
        "fig, ax = plt.subplots(1,2,figsize=(15,5))\n",
        "ax[0].plot(losses, 'k^-')\n",
        "ax[0].set_title(f'Losses with minibatch size = {batch_size}')\n",
        "ax[0].set_xlabel('Epochs')\n",
        "ax[0].set_ylabel('Loss')\n",
        "\n",
        "ax[1].plot(train_acc, 'ro-')\n",
        "ax[1].plot(test_acc, 'bs-')\n",
        "ax[1].set_title(f'Accuracy with mini batch = {batch_size}')\n",
        "ax[1].set_xlabel('Epochs')\n",
        "ax[1].set_ylabel('Accuracy (%)')\n",
        "ax[1].legend(['Train', 'Test'])\n",
        "\n",
        "plt.show()"
      ],
      "metadata": {
        "colab": {
          "base_uri": "https://localhost:8080/",
          "height": 350
        },
        "id": "ydC7Noq8Ls5I",
        "outputId": "3558b03d-4c2c-4e14-c0c0-b6e90b050bfa"
      },
      "execution_count": 16,
      "outputs": [
        {
          "output_type": "display_data",
          "data": {
            "text/plain": [
              "<Figure size 1080x360 with 2 Axes>"
            ],
            "image/png": "[encoded data removed]"
          },
          "metadata": {
            "needs_background": "light"
          }
        }
      ]
    },
    {
      "cell_type": "code",
      "source": [],
      "metadata": {
        "id": "ztci_eRtMf8R"
      },
      "execution_count": null,
      "outputs": []
    }
  ]
}