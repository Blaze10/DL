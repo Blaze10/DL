{
  "nbformat": 4,
  "nbformat_minor": 0,
  "metadata": {
    "colab": {
      "provenance": [],
      "authorship_tag": "ABX9TyPA90uomgz76hjfzPZjHE5t",
      "include_colab_link": true
    },
    "kernelspec": {
      "name": "python3",
      "display_name": "Python 3"
    },
    "language_info": {
      "name": "python"
    }
  },
  "cells": [
    {
      "cell_type": "markdown",
      "metadata": {
        "id": "view-in-github",
        "colab_type": "text"
      },
      "source": [
        "<a href=\"https://colab.research.google.com/github/Blaze10/DL/blob/main/regularization/regular_dropout_pytorch.ipynb\" target=\"_parent\"><img src=\"https://colab.research.google.com/assets/colab-badge.svg\" alt=\"Open In Colab\"/></a>"
      ]
    },
    {
      "cell_type": "code",
      "execution_count": 1,
      "metadata": {
        "id": "vEEfOMdvSJSI"
      },
      "outputs": [],
      "source": [
        "import torch\n",
        "import torch.nn as nn\n",
        "import torch.nn.functional as F"
      ]
    },
    {
      "cell_type": "markdown",
      "source": [
        "## Using dropout"
      ],
      "metadata": {
        "id": "kDCwDkdrSoeK"
      }
    },
    {
      "cell_type": "code",
      "source": [
        "prob = .5\n",
        "dropout = nn.Dropout(p=prob)\n",
        "x = torch.ones(10)\n",
        "\n",
        "y = dropout(x)\n",
        "print(f'x: {x}')\n",
        "print(f'y: {y}')\n",
        "print(y * (1-prob))\n",
        "print(torch.mean(y))"
      ],
      "metadata": {
        "colab": {
          "base_uri": "https://localhost:8080/"
        },
        "id": "Fb9CXvSDSqqH",
        "outputId": "0cc1af15-85c2-49c4-c102-caa0181713e5"
      },
      "execution_count": 3,
      "outputs": [
        {
          "output_type": "stream",
          "name": "stdout",
          "text": [
            "x: tensor([1., 1., 1., 1., 1., 1., 1., 1., 1., 1.])\n",
            "y: tensor([2., 2., 0., 2., 0., 0., 0., 0., 2., 2.])\n",
            "tensor([1., 1., 0., 1., 0., 0., 0., 0., 1., 1.])\n",
            "tensor(1.)\n"
          ]
        }
      ]
    },
    {
      "cell_type": "code",
      "source": [
        "# dropout is turned off when evaluating the model\n",
        "dropout.eval()\n",
        "y = dropout(x)\n",
        "print(y)\n",
        "print(torch.mean(y))"
      ],
      "metadata": {
        "colab": {
          "base_uri": "https://localhost:8080/"
        },
        "id": "W9mgMEOcS7vF",
        "outputId": "e50fe493-0aaf-419a-d14a-0f81d6c518dd"
      },
      "execution_count": 4,
      "outputs": [
        {
          "output_type": "stream",
          "name": "stdout",
          "text": [
            "tensor([1., 1., 1., 1., 1., 1., 1., 1., 1., 1.])\n",
            "tensor(1.)\n"
          ]
        }
      ]
    },
    {
      "cell_type": "code",
      "source": [
        "# F.dropout() is not deactivated in eval model\n",
        "dropout.eval()\n",
        "y = F.dropout(x)\n",
        "print(y)\n",
        "print(torch.mean(y))"
      ],
      "metadata": {
        "colab": {
          "base_uri": "https://localhost:8080/"
        },
        "id": "tUW5-7D3TLrk",
        "outputId": "06d0a822-5583-4f1d-a870-06943d87d689"
      },
      "execution_count": 5,
      "outputs": [
        {
          "output_type": "stream",
          "name": "stdout",
          "text": [
            "tensor([0., 0., 0., 2., 0., 0., 2., 0., 0., 0.])\n",
            "tensor(0.4000)\n"
          ]
        }
      ]
    },
    {
      "cell_type": "code",
      "source": [
        "# for F.dropout() need to manually switch it off\n",
        "y = F.dropout(x, training=False)\n",
        "print(y)\n",
        "print(torch.mean(y))"
      ],
      "metadata": {
        "colab": {
          "base_uri": "https://localhost:8080/"
        },
        "id": "hpwaWp9GTYjO",
        "outputId": "23f50b92-b20a-441f-f436-30ab9c2abeff"
      },
      "execution_count": 6,
      "outputs": [
        {
          "output_type": "stream",
          "name": "stdout",
          "text": [
            "tensor([1., 1., 1., 1., 1., 1., 1., 1., 1., 1.])\n",
            "tensor(1.)\n"
          ]
        }
      ]
    }
  ]
}